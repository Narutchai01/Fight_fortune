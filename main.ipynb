{
 "cells": [
  {
   "cell_type": "code",
   "execution_count": 283,
   "metadata": {},
   "outputs": [],
   "source": [
    "import random;\n",
    "\n",
    "def ShowHP(HP, player):\n",
    "    print(f\"HP:{player} \")\n",
    "    for i in range(HP):\n",
    "        print(\"♥\" , end = \"\")\n",
    "    print(f\" HP: {HP}\")\n",
    "\n",
    "def ShowMP(MP,player):\n",
    "    print(f\"MP:{player} \")\n",
    "    for i in range(MP):\n",
    "        print(\"♦\" , end = \"\")\n",
    "    print(f\" MP: {MP}\")\n",
    "\n",
    "def attack(HP, MP , action):\n",
    "    if action == \"A\" :\n",
    "        MP -= 1\n",
    "        HP -= 1\n",
    "\n",
    "        print(f\"HP: {HP}\\nMP: {MP}\")\n",
    "\n",
    "   "
   ]
  },
  {
   "cell_type": "code",
   "execution_count": 284,
   "metadata": {},
   "outputs": [
    {
     "name": "stdout",
     "output_type": "stream",
     "text": [
      "Player2\n"
     ]
    }
   ],
   "source": [
    "playerArr = [\"Player1\" , \"Player2\"]\n",
    "HP = [100 , 9]\n",
    "MP = [100 , 100]\n",
    "\n",
    "firsttPlayer = random.choice(playerArr)\n",
    "secondPlayer = playerArr[0] if firsttPlayer == playerArr[1] else playerArr[1]\n",
    "\n",
    "\n",
    "\n",
    "print(firsttPlayer, secondPlayer)\n",
    "\n",
    "\n",
    "\n",
    "\n",
    "\n"
   ]
  }
 ],
 "metadata": {
  "kernelspec": {
   "display_name": "Python 3",
   "language": "python",
   "name": "python3"
  },
  "language_info": {
   "codemirror_mode": {
    "name": "ipython",
    "version": 3
   },
   "file_extension": ".py",
   "mimetype": "text/x-python",
   "name": "python",
   "nbconvert_exporter": "python",
   "pygments_lexer": "ipython3",
   "version": "3.9.10"
  }
 },
 "nbformat": 4,
 "nbformat_minor": 2
}
